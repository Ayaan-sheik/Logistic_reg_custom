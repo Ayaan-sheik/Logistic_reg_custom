{
 "cells": [
  {
   "cell_type": "code",
   "execution_count": 3,
   "id": "e1e599f0",
   "metadata": {},
   "outputs": [],
   "source": [
    "import numpy as np\n",
    "import pandas as pd\n",
    "from sklearn.datasets import load_breast_cancer\n",
    "from sklearn.linear_model import LogisticRegression\n",
    "from sklearn.model_selection import train_test_split\n",
    "from sklearn.preprocessing import StandardScaler\n",
    "from sklearn.metrics import accuracy_score, classification_report, confusion_matrix"
   ]
  },
  {
   "cell_type": "code",
   "execution_count": 37,
   "id": "d4d43600",
   "metadata": {},
   "outputs": [],
   "source": [
    "class logisticRegression:\n",
    "    def __init__(self, learning_rate=0.01, num_iterations=1000):\n",
    "        self.learning_rate = learning_rate\n",
    "        self.num_iterations = num_iterations\n",
    "        self.weights = None\n",
    "        self.bias = None\n",
    "        self.costs = []\n",
    "        self.m = None\n",
    "\n",
    "    def sigmoid(self, z):\n",
    "        return 1 / (1 + np.exp(-z))\n",
    "\n",
    "    def propogate(self, X, y):\n",
    "        m = X.shape[1]\n",
    "        P = (np.dot(self.weights.T,X)+self.bias)\n",
    "        A = self.sigmoid(P)\n",
    "        cost = -1*(np.sum((y*np.log(A) +(1-y)*np.log(1-A)),axis=1,keepdims = True))/m\n",
    "        dz = A - y\n",
    "\n",
    "        dw = (1/m)*np.dot(X,dz.T)\n",
    "    \n",
    "        db = (1/m)*np.sum(dz)\n",
    "        cost = np.squeeze(np.array(cost))\n",
    "\n",
    "    \n",
    "        grads = {\"dw\": dw,\n",
    "             \"db\": db}\n",
    "        return grads, cost\n",
    "    \n",
    "    def optimize(self,X, Y, num_iterations=100, learning_rate=0.009, print_cost=False):\n",
    "    \n",
    "    \n",
    "        for i in range(num_iterations):\n",
    "            \n",
    "            grads, cost = self.propogate(X,Y)\n",
    "            \n",
    "            dw = grads[\"dw\"]\n",
    "            db = grads[\"db\"]\n",
    "            \n",
    "            \n",
    "            \n",
    "            w = w - learning_rate*dw\n",
    "            b = b - learning_rate*db\n",
    "            \n",
    "            \n",
    "            \n",
    "            # Record the costs\n",
    "            if i % 100 == 0:\n",
    "                self.costs.append(cost)\n",
    "            \n",
    "                # Print the cost every 100 training iterations\n",
    "                if print_cost:\n",
    "                    print (\"Cost after iteration %i: %f\" %(i, cost))\n",
    "        \n",
    "            params = {\"w\": w,\n",
    "                \"b\": b}\n",
    "        \n",
    "            grads = {\"dw\": dw,\n",
    "                \"db\": db}\n",
    "        \n",
    "            return params, grads, self.costs\n",
    "        \n",
    "    def fit(self, X, y):\n",
    "        y = y.reshape(-1)  # (num_samples,)\n",
    "        num_samples, num_features = X.shape\n",
    "        self.weights = np.zeros(num_features)\n",
    "        self.bias = 0\n",
    "\n",
    "        for _ in range(self.num_iterations):\n",
    "            linear_model = np.dot(X, self.weights) + self.bias\n",
    "            y_predicted = self.sigmoid(linear_model)  # shape (num_samples,)\n",
    "\n",
    "            dw = (1 / num_samples) * np.dot(X.T, (y_predicted - y))  # shape (num_features,)\n",
    "            db = (1 / num_samples) * np.sum(y_predicted - y)\n",
    "\n",
    "            self.weights -= self.learning_rate * dw\n",
    "            self.bias -= self.learning_rate * db\n",
    "\n",
    "\n",
    "    def predict(self, X):\n",
    "        linear_model = np.dot(X, self.weights) + self.bias\n",
    "        y_predicted = self.sigmoid(linear_model)\n",
    "        return np.where(y_predicted > 0.5, 1, 0).flatten()"
   ]
  },
  {
   "cell_type": "code",
   "execution_count": 38,
   "id": "79561983",
   "metadata": {},
   "outputs": [
    {
     "name": "stdout",
     "output_type": "stream",
     "text": [
      "Accuracy: 0.9824561403508771\n",
      "Confusion Matrix:\n",
      " [[42  1]\n",
      " [ 1 70]]\n",
      "Classification Report:\n",
      "               precision    recall  f1-score   support\n",
      "\n",
      "           0       0.98      0.98      0.98        43\n",
      "           1       0.99      0.99      0.99        71\n",
      "\n",
      "    accuracy                           0.98       114\n",
      "   macro avg       0.98      0.98      0.98       114\n",
      "weighted avg       0.98      0.98      0.98       114\n",
      "\n"
     ]
    }
   ],
   "source": [
    "from sklearn.datasets import load_breast_cancer\n",
    "from sklearn.model_selection import train_test_split\n",
    "from sklearn.preprocessing import StandardScaler\n",
    "from sklearn.metrics import accuracy_score, classification_report, confusion_matrix\n",
    "\n",
    "# Load data\n",
    "data = load_breast_cancer()\n",
    "X = data.data\n",
    "y = data.target\n",
    "\n",
    "# Train-test split\n",
    "X_train, X_test, y_train, y_test = train_test_split(X, y, test_size=0.2, random_state=42)\n",
    "\n",
    "# Feature scaling\n",
    "scaler = StandardScaler()\n",
    "X_train = scaler.fit_transform(X_train)\n",
    "X_test = scaler.transform(X_test)\n",
    "\n",
    "# Train your model\n",
    "model = logisticRegression(learning_rate=0.01, num_iterations=1000)\n",
    "model.fit(X_train, y_train)\n",
    "\n",
    "# Predict and evaluate\n",
    "y_pred = model.predict(X_test)\n",
    "\n",
    "print(\"Accuracy:\", accuracy_score(y_test, y_pred))\n",
    "print(\"Confusion Matrix:\\n\", confusion_matrix(y_test, y_pred))\n",
    "print(\"Classification Report:\\n\", classification_report(y_test, y_pred))\n"
   ]
  },
  {
   "cell_type": "markdown",
   "id": "d14116e8",
   "metadata": {},
   "source": [
    "Testing to check if its a cat or not\n"
   ]
  },
  {
   "cell_type": "code",
   "execution_count": 44,
   "id": "ed1a325a",
   "metadata": {},
   "outputs": [
    {
     "name": "stdout",
     "output_type": "stream",
     "text": [
      "Accuracy: 0.7\n"
     ]
    }
   ],
   "source": [
    "import h5py\n",
    "import numpy as np\n",
    "\n",
    "def load_cat_dataset():\n",
    "    train_dataset = h5py.File(\"train_catvnoncat.h5\", \"r\")\n",
    "    test_dataset = h5py.File(\"test_catvnoncat.h5\", \"r\")\n",
    "\n",
    "    train_set_x_orig = np.array(train_dataset[\"train_set_x\"][:])\n",
    "    train_set_y_orig = np.array(train_dataset[\"train_set_y\"][:])\n",
    "    test_set_x_orig = np.array(test_dataset[\"test_set_x\"][:])\n",
    "    test_set_y_orig = np.array(test_dataset[\"test_set_y\"][:])\n",
    "\n",
    "    return train_set_x_orig, train_set_y_orig, test_set_x_orig, test_set_y_orig\n",
    "train_set_x_orig, train_set_y_orig, test_set_x_orig, test_set_y_orig = load_cat_dataset()\n",
    "\n",
    "# Flatten and normalize\n",
    "X_train = train_set_x_orig.reshape(train_set_x_orig.shape[0], -1).T / 255.\n",
    "X_test = test_set_x_orig.reshape(test_set_x_orig.shape[0], -1).T / 255.\n",
    "Y_train = train_set_y_orig.reshape(1, -1)\n",
    "Y_test = test_set_y_orig.reshape(1, -1)\n",
    "\n",
    "# Fit your model\n",
    "model = logisticRegression(learning_rate=0.005, num_iterations=2000)\n",
    "model.fit(X_train.T, Y_train.reshape(-1))\n",
    "\n",
    "# Predict\n",
    "Y_pred = model.predict(X_test.T)\n",
    "\n",
    "# Accuracy\n",
    "from sklearn.metrics import accuracy_score\n",
    "print(\"Accuracy:\", accuracy_score(Y_test.flatten(), Y_pred))"
   ]
  },
  {
   "cell_type": "code",
   "execution_count": null,
   "id": "8ae53284",
   "metadata": {},
   "outputs": [
    {
     "ename": "NameError",
     "evalue": "name 'X_train_flat' is not defined",
     "output_type": "error",
     "traceback": [
      "\u001b[1;31m---------------------------------------------------------------------------\u001b[0m",
      "\u001b[1;31mNameError\u001b[0m                                 Traceback (most recent call last)",
      "Cell \u001b[1;32mIn[28], line 2\u001b[0m\n\u001b[0;32m      1\u001b[0m model \u001b[38;5;241m=\u001b[39m logisticRegression(learning_rate\u001b[38;5;241m=\u001b[39m\u001b[38;5;241m0.005\u001b[39m, num_iterations\u001b[38;5;241m=\u001b[39m\u001b[38;5;241m2000\u001b[39m)\n\u001b[1;32m----> 2\u001b[0m model\u001b[38;5;241m.\u001b[39mfit(\u001b[43mX_train_flat\u001b[49m\u001b[38;5;241m.\u001b[39mT, Y_train\u001b[38;5;241m.\u001b[39mflatten())\n\u001b[0;32m      4\u001b[0m y_pred \u001b[38;5;241m=\u001b[39m model\u001b[38;5;241m.\u001b[39mpredict(X_test_flat\u001b[38;5;241m.\u001b[39mT)\n\u001b[0;32m      6\u001b[0m \u001b[38;5;28;01mfrom\u001b[39;00m \u001b[38;5;21;01msklearn\u001b[39;00m\u001b[38;5;21;01m.\u001b[39;00m\u001b[38;5;21;01mmetrics\u001b[39;00m \u001b[38;5;28;01mimport\u001b[39;00m accuracy_score\n",
      "\u001b[1;31mNameError\u001b[0m: name 'X_train_flat' is not defined"
     ]
    }
   ],
   "source": []
  }
 ],
 "metadata": {
  "kernelspec": {
   "display_name": "Python 3",
   "language": "python",
   "name": "python3"
  },
  "language_info": {
   "codemirror_mode": {
    "name": "ipython",
    "version": 3
   },
   "file_extension": ".py",
   "mimetype": "text/x-python",
   "name": "python",
   "nbconvert_exporter": "python",
   "pygments_lexer": "ipython3",
   "version": "3.12.10"
  }
 },
 "nbformat": 4,
 "nbformat_minor": 5
}
